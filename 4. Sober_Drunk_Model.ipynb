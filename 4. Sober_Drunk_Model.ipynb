{
  "cells": [
    {
      "cell_type": "code",
      "execution_count": null,
      "metadata": {
        "colab": {
          "base_uri": "https://localhost:8080/"
        },
        "id": "q8MqtaO_tKop",
        "outputId": "228e31d3-18af-4fd8-bfb9-571d14b82330"
      },
      "outputs": [],
      "source": [
        "pip install keras_preprocessing"
      ]
    },
    {
      "cell_type": "code",
      "execution_count": null,
      "metadata": {
        "id": "9PzKvu5tnW0B"
      },
      "outputs": [],
      "source": [
        "from keras.utils import to_categorical\n",
        "from keras_preprocessing.image import load_img\n",
        "from keras.models import Sequential\n",
        "from keras.layers import Dense, Conv2D, Dropout, MaxPooling2D\n",
        "import os\n",
        "import pandas as pd\n",
        "import numpy as np\n",
        "import cv2\n",
        "import matplotlib.pyplot as plt\n",
        "from tqdm import tqdm\n",
        "import tensorflow as tf"
      ]
    },
    {
      "cell_type": "code",
      "execution_count": null,
      "metadata": {
        "colab": {
          "base_uri": "https://localhost:8080/"
        },
        "id": "hbtR8IngVpjY",
        "outputId": "fda1fb92-e649-465d-8653-93dd4fe605e5"
      },
      "outputs": [],
      "source": [
        "from google.colab import drive\n",
        "drive.mount('/content/drive')"
      ]
    },
    {
      "cell_type": "code",
      "execution_count": null,
      "metadata": {
        "id": "gxlrHawttW3Z"
      },
      "outputs": [],
      "source": [
        "## change path once location is changed\n",
        "#this loads the dataset for training\n",
        "FACES_DIR= '/content/drive/MyDrive/newtrial/train'\n",
        "TFACES_DIR ='/content/drive/MyDrive/newtrial/test'"
      ]
    },
    {
      "cell_type": "code",
      "execution_count": null,
      "metadata": {
        "id": "C0NCmVh8t059"
      },
      "outputs": [],
      "source": [
        "#to read all images in the dataset\n",
        "def createdataframe(dir):\n",
        "    image_paths = []\n",
        "    labels = []\n",
        "    for label in os.listdir(dir):\n",
        "        for imagename in os.listdir(os.path.join(dir, label)):\n",
        "            image_paths.append(os.path.join(dir, label, imagename))\n",
        "            labels.append(label)\n",
        "        print(label, \"completed\")\n",
        "    return image_paths, labels"
      ]
    },
    {
      "cell_type": "code",
      "execution_count": null,
      "metadata": {
        "colab": {
          "base_uri": "https://localhost:8080/"
        },
        "id": "bhP2IxrUt9RG",
        "outputId": "e8b262f7-9057-4922-cd69-3de2a247233f"
      },
      "outputs": [],
      "source": [
        "train= pd.DataFrame()\n",
        "train['image'], train['label'] = createdataframe(FACES_DIR)"
      ]
    },
    {
      "cell_type": "code",
      "execution_count": null,
      "metadata": {
        "colab": {
          "base_uri": "https://localhost:8080/"
        },
        "id": "hO3xMxDLuxea",
        "outputId": "8fe09222-5239-4c54-bc60-1523762d0ef8"
      },
      "outputs": [],
      "source": [
        "print(train)"
      ]
    },
    {
      "cell_type": "code",
      "execution_count": null,
      "metadata": {
        "colab": {
          "base_uri": "https://localhost:8080/"
        },
        "id": "pMw0T84fLpMg",
        "outputId": "c060a753-a7e1-45dd-be13-e6fff914ac08"
      },
      "outputs": [],
      "source": [
        "test =pd.DataFrame()\n",
        "test['image'],test['label']= createdataframe(TFACES_DIR)"
      ]
    },
    {
      "cell_type": "code",
      "execution_count": null,
      "metadata": {
        "colab": {
          "base_uri": "https://localhost:8080/"
        },
        "id": "VXF_TiIYMBjs",
        "outputId": "66185ef0-6b13-4cbd-d2ca-16c125aa4f21"
      },
      "outputs": [],
      "source": [
        "print (test)"
      ]
    },
    {
      "cell_type": "code",
      "execution_count": null,
      "metadata": {
        "id": "G8yfl1EHIQNL"
      },
      "outputs": [],
      "source": [
        "def extract_features(images):\n",
        "    features = []\n",
        "    for image in tqdm(images):\n",
        "        try:\n",
        "            img = load_img(image, grayscale=True, target_size=(256, 256))\n",
        "            img = np.array(img)\n",
        "            features.append(img)\n",
        "        except Exception as e:\n",
        "            print(f\"Error loading image: {image}. Error: {str(e)}\")\n",
        "\n",
        "    features = np.array(features)\n",
        "    features = features.reshape(len(features), 256, 256, 1)\n",
        "    print(f\"Features shape: {features.shape}\")\n",
        "    return features"
      ]
    },
    {
      "cell_type": "code",
      "execution_count": null,
      "metadata": {
        "colab": {
          "base_uri": "https://localhost:8080/"
        },
        "id": "1CobXr5evNQN",
        "outputId": "9278a315-4253-4287-8378-dad9d886cc50"
      },
      "outputs": [],
      "source": [
        "train_features = extract_features(train['image'])"
      ]
    },
    {
      "cell_type": "code",
      "execution_count": null,
      "metadata": {
        "colab": {
          "base_uri": "https://localhost:8080/"
        },
        "id": "cmRrrsBHMiNR",
        "outputId": "1d1b83c2-c849-4a76-eb7d-2ed7f6d4d756"
      },
      "outputs": [],
      "source": [
        "test_features = extract_features(test['image'])"
      ]
    },
    {
      "cell_type": "code",
      "execution_count": null,
      "metadata": {
        "id": "9sXzoZdhvqeH"
      },
      "outputs": [],
      "source": [
        "x_train = train_features/255.0\n",
        "x_test = test_features/255.0"
      ]
    },
    {
      "cell_type": "code",
      "execution_count": null,
      "metadata": {
        "id": "ADHchEEDvwP9"
      },
      "outputs": [],
      "source": [
        "from sklearn.preprocessing import LabelEncoder"
      ]
    },
    {
      "cell_type": "code",
      "execution_count": null,
      "metadata": {
        "colab": {
          "base_uri": "https://localhost:8080/",
          "height": 75
        },
        "id": "C2FhyupTv1WI",
        "outputId": "a18c7761-8c7b-49d1-c40d-d8ebe4bcef1e"
      },
      "outputs": [],
      "source": [
        "le = LabelEncoder()\n",
        "le.fit(train['label'])"
      ]
    },
    {
      "cell_type": "code",
      "execution_count": null,
      "metadata": {
        "id": "5BgPlR_3wBAm"
      },
      "outputs": [],
      "source": [
        "y_train = le.transform(train[\"label\"])\n",
        "y_test = le.transform(test['label'])"
      ]
    },
    {
      "cell_type": "code",
      "execution_count": null,
      "metadata": {
        "id": "lGg0EtLfwJkE"
      },
      "outputs": [],
      "source": [
        "y_train = to_categorical(y_train, num_classes = 2)\n",
        "y_test =to_categorical(y_test, num_classes = 2)"
      ]
    },
    {
      "cell_type": "code",
      "execution_count": null,
      "metadata": {
        "id": "DzVGTjUzwOk6"
      },
      "outputs": [],
      "source": [
        "from keras.layers import Flatten\n",
        "from keras import optimizers"
      ]
    },
    {
      "cell_type": "code",
      "execution_count": null,
      "metadata": {
        "id": "FR8C7xenpXVF"
      },
      "outputs": [],
      "source": [
        "model = Sequential()\n",
        "#convolutional layers\n",
        "model.add(Conv2D(128, kernel_size=(3,3), activation='relu', strides=(1,1),padding= 'same', input_shape=(256,256,1)))\n",
        "model.add(MaxPooling2D(pool_size=(2,2), strides=(2,2), padding='valid'))\n",
        "model.add(Dropout(0.4))\n",
        "\n",
        "model.add(Conv2D(256, kernel_size=(3,3),padding= 'same', activation='relu'))\n",
        "model.add(MaxPooling2D(pool_size=(2,2), strides=(2,2), padding='valid'))\n",
        "model.add(Dropout(0.4))\n",
        "\n",
        "model.add(Conv2D(256, kernel_size=(3,3),padding= 'same', activation='relu'))\n",
        "model.add(MaxPooling2D(pool_size=(2,2), strides=(2,2), padding='valid'))\n",
        "model.add(Dropout(0.4))\n",
        "\n",
        "model.add(Conv2D(512, kernel_size=(3,3),padding= 'same', activation='relu'))\n",
        "model.add(MaxPooling2D(pool_size=(2,2), strides=(2,2), padding='valid'))\n",
        "model.add(Dropout(0.4))\n",
        "\n",
        "model.add(Conv2D(512,kernel_size=(3,3), padding='same', activation='relu'))\n",
        "model.add(MaxPooling2D(pool_size=(2,2), strides=(2,2), padding='valid'))\n",
        "model.add(Dropout(0.4))\n",
        "\n",
        "model.add(Flatten())\n",
        "\n",
        "#fully connected layers\n",
        "model.add(Dense(512, activation='relu'))\n",
        "model.add(Dropout(0.4))\n",
        "model.add(Dense(256, activation='relu'))\n",
        "model.add(Dropout(0.4))\n",
        "\n",
        "#output layer\n",
        "model.add(Dense(2, activation='softmax'))"
      ]
    },
    {
      "cell_type": "code",
      "execution_count": null,
      "metadata": {
        "colab": {
          "base_uri": "https://localhost:8080/"
        },
        "id": "COSlrdyMijcV",
        "outputId": "72a3338b-b0e2-40e6-ef95-65ec774ca437"
      },
      "outputs": [],
      "source": [
        "model.compile(optimizer= 'adam', loss= 'categorical_crossentropy', metrics= 'accuracy')\n",
        "model.summary()"
      ]
    },
    {
      "cell_type": "code",
      "execution_count": null,
      "metadata": {
        "colab": {
          "base_uri": "https://localhost:8080/"
        },
        "id": "srbZRDZJwoS1",
        "outputId": "3b6bb706-37bb-402f-fe63-0f58b282bad7"
      },
      "outputs": [],
      "source": [
        "hist = model.fit(x= x_train, y= y_train,batch_size= 32, epochs= 100, validation_data = (x_test, y_test))"
      ]
    },
    {
      "cell_type": "code",
      "execution_count": null,
      "metadata": {
        "colab": {
          "base_uri": "https://localhost:8080/",
          "height": 478
        },
        "id": "QCQDjXWUbTkB",
        "outputId": "9228761e-3e51-4bb3-a21a-0ce9e24504ac"
      },
      "outputs": [],
      "source": [
        "#plot performance\n",
        "fig = plt.figure()\n",
        "plt.plot(hist.history['loss'], color='teal', label='loss')\n",
        "plt.plot(hist.history['val_loss'], 'orange', label= 'val_loss')\n",
        "fig.suptitle('loss', fontsize=20)\n",
        "plt.legend(loc=\"upper left\")\n",
        "plt.show()"
      ]
    },
    {
      "cell_type": "code",
      "execution_count": null,
      "metadata": {
        "colab": {
          "base_uri": "https://localhost:8080/",
          "height": 478
        },
        "id": "ghov55WDbWMb",
        "outputId": "341fa317-bac2-43bc-d077-3fb77d0b85ab"
      },
      "outputs": [],
      "source": [
        "fig = plt.figure()\n",
        "plt.plot(hist.history['accuracy'], color='teal', label='accuracy')\n",
        "plt.plot(hist.history['val_accuracy'], 'orange', label= 'val_accuracy')\n",
        "fig.suptitle('accuracy', fontsize=20)\n",
        "plt.legend(loc=\"upper left\")\n",
        "plt.show()"
      ]
    },
    {
      "cell_type": "code",
      "execution_count": null,
      "metadata": {
        "colab": {
          "base_uri": "https://localhost:8080/"
        },
        "id": "6d4u_V8xg0P-",
        "outputId": "10b0118b-ea3a-4457-9a84-787dfdcaa988"
      },
      "outputs": [],
      "source": [
        "model_json = model.to_json()\n",
        "with open(\"trainedbatchf2.json\", 'w') as json_file:\n",
        "    json_file.write(model_json)\n",
        "model.save(\"trainedbatchf2.h5\")"
      ]
    },
    {
      "cell_type": "code",
      "execution_count": null,
      "metadata": {
        "id": "brO9OiIui0gO"
      },
      "outputs": [],
      "source": [
        "from keras.models import model_from_json"
      ]
    },
    {
      "cell_type": "code",
      "execution_count": null,
      "metadata": {
        "id": "uOFrVQ8Wi8nk"
      },
      "outputs": [],
      "source": [
        "json_file = open(\"trainedbatchf2.json\", \"r\")\n",
        "model_json = json_file.read()\n",
        "json_file.close()\n",
        "model = model_from_json(model_json)\n",
        "model.load_weights(\"trainedbatchf2.h5\")"
      ]
    },
    {
      "cell_type": "code",
      "execution_count": null,
      "metadata": {
        "id": "9Ov8J2wNjFvg"
      },
      "outputs": [],
      "source": [
        "label = ['drunk', 'sober']"
      ]
    },
    {
      "cell_type": "code",
      "execution_count": null,
      "metadata": {
        "id": "2fHfzETPjKxh"
      },
      "outputs": [],
      "source": [
        "def ef(image):\n",
        "    img = load_img(image, grayscale = True)\n",
        "    feature = np.array(img)\n",
        "    feature =feature.reshape(1,256,256,1)\n",
        "    return feature/255.0"
      ]
    },
    {
      "cell_type": "code",
      "execution_count": null,
      "metadata": {
        "colab": {
          "base_uri": "https://localhost:8080/"
        },
        "id": "wKsKPFtljWJr",
        "outputId": "90abd015-91a0-4aaf-be5b-dc2927bde2ee"
      },
      "outputs": [],
      "source": [
        "image = 'drive/MyDrive/newtrial/verify/cls.jpg'\n",
        "print(\"original image is of sober\")\n",
        "img = ef(image)\n",
        "pred = model.predict(img)\n",
        "pred_label = label[pred.argmax()]\n",
        "print(\"model prediction is \",pred_label)"
      ]
    },
    {
      "cell_type": "code",
      "execution_count": null,
      "metadata": {
        "colab": {
          "base_uri": "https://localhost:8080/"
        },
        "id": "ziyELfEQjiWk",
        "outputId": "d7460406-e86e-4cea-d1f8-eaac47eb70a1"
      },
      "outputs": [],
      "source": [
        "image = 'drive/MyDrive/newtrial/verify/pst.jpg'\n",
        "print(\"original image is of drunk\")\n",
        "img = ef(image)\n",
        "pred = model.predict(img)\n",
        "pred_label = label[pred.argmax()]\n",
        "print(\"model prediction is \",pred_label)"
      ]
    }
  ],
  "metadata": {
    "accelerator": "GPU",
    "colab": {
      "gpuType": "T4",
      "provenance": []
    },
    "kernelspec": {
      "display_name": "Python 3",
      "name": "python3"
    },
    "language_info": {
      "name": "python"
    }
  },
  "nbformat": 4,
  "nbformat_minor": 0
}
